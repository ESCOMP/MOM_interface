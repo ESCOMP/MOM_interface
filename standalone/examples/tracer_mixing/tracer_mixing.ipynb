{
 "cells": [
  {
   "cell_type": "code",
   "execution_count": null,
   "metadata": {
    "collapsed": false
   },
   "outputs": [],
   "source": [
    "# Uses python3\n",
    "# Notebook with images at https://gist.github.com/adcroft/ebdcf46b3df13c42fa4aeda399dd5a1a\n",
    "import numpy\n",
    "import scipy.io.netcdf\n",
    "import matplotlib.pyplot as plt\n",
    "%matplotlib inline"
   ]
  },
  {
   "cell_type": "code",
   "execution_count": null,
   "metadata": {
    "collapsed": false
   },
   "outputs": [],
   "source": [
    "icz=scipy.io.netcdf.netcdf_file('z/Initial_state.nc', mmap=False)\n",
    "ziz=-icz.variables['Interface'][:]\n",
    "zcz=-icz.variables['Layer'][:]\n",
    "icr=scipy.io.netcdf.netcdf_file('rho/Initial_state.nc', mmap=False)\n",
    "xq=numpy.concatenate(([0],icz.variables['lonq'][:]))\n",
    "xc=icz.variables['lonh'][:]"
   ]
  },
  {
   "cell_type": "code",
   "execution_count": null,
   "metadata": {
    "collapsed": false,
    "scrolled": false
   },
   "outputs": [],
   "source": [
    "# Initial conditions\n",
    "plt.figure(figsize=(14,5));\n",
    "plt.subplot(121)\n",
    "plt.pcolormesh(xq,ziz,icz.variables['Temp'][0,:,0,:]); plt.colorbar();\n",
    "plt.contour(xc,zcz,icz.variables['Salt'][0,:,0,:],numpy.arange(34.5,35.5,.05),colors='k');\n",
    "plt.xlabel('x [km]'); plt.ylabel('z* [m]'); plt.title('z* coordinate I.C.s');\n",
    "plt.subplot(122)\n",
    "z = numpy.zeros((ziz.shape[0],xq.shape[0])); z[:,0] = icr.variables['eta'][-1,:,0,0]; z[:,-1] = icr.variables['eta'][-1,:,0,-1]\n",
    "z[:,1:-1] = 0.5 * ( icr.variables['eta'][-1,:,0,:-1] + icr.variables['eta'][-1,:,0,1:] ) # interfaces at u-points\n",
    "plt.pcolormesh(xq,z,icr.variables['Temp'][0,:,0,:]); plt.colorbar();\n",
    "z = 0.5 * ( icr.variables['eta'][0,:-1,0,:] + icr.variables['eta'][0,1:,0,:] )\n",
    "plt.contour(xc+0*z,z,icr.variables['Salt'][0,:,0,:],numpy.arange(34.5,35.5,.05),colors='k');\n",
    "plt.xlabel('x [km]'); plt.ylabel('z* [m]'); plt.title(r'$\\rho$ coordinate I.C.s');\n",
    "plt.figure(figsize=(14,5));\n",
    "plt.subplot(121)\n",
    "plt.plot(icz.variables['Salt'][0,:,0,:].flatten()+1e3,icz.variables['Temp'][0,:,0,:].flatten(),'.');\n",
    "plt.xlabel('$\\sigma$ [kg/m$^3$]'); plt.ylabel(r'$\\theta$ [conc.]'); plt.title('z* coordinate I.C.s'); plt.xlim(1034.5,1035.5);\n",
    "plt.subplot(122)\n",
    "plt.plot(icr.variables['Salt'][0,:,0,:].flatten()+1e3,icr.variables['Temp'][0,:,0,:].flatten(),'.'); plt.xlim(1034.5,1035.5);\n",
    "plt.xlabel('$\\sigma$ [kg/m$^3$]'); plt.ylabel(r'$\\theta$ [conc.]'); plt.title(r'$\\rho$ coordinate I.C.s');"
   ]
  },
  {
   "cell_type": "code",
   "execution_count": null,
   "metadata": {
    "collapsed": false
   },
   "outputs": [],
   "source": [
    "znc=scipy.io.netcdf.netcdf_file('z/prog.nc', mmap=False)\n",
    "rnc=scipy.io.netcdf.netcdf_file('rho/prog.nc', mmap=False)"
   ]
  },
  {
   "cell_type": "code",
   "execution_count": null,
   "metadata": {
    "collapsed": false
   },
   "outputs": [],
   "source": [
    "rnc.variables['temp'].shape"
   ]
  },
  {
   "cell_type": "code",
   "execution_count": null,
   "metadata": {
    "collapsed": false
   },
   "outputs": [],
   "source": [
    "# Evolution/final state\n",
    "plt.figure(figsize=(14,5));\n",
    "plt.subplot(121)\n",
    "plt.pcolormesh(xq,ziz,znc.variables['temp'][-1,:,0,:]); plt.colorbar();\n",
    "plt.contour(xc,zcz,znc.variables['salt'][-1,:,0,:],numpy.arange(34.5,35.5,.05),colors='k');\n",
    "plt.xlabel('x [km]'); plt.ylabel('z* [m]'); plt.title('z* coordinate');\n",
    "plt.subplot(122)\n",
    "z = numpy.zeros((ziz.shape[0],xq.shape[0])); z[:,0] = rnc.variables['e'][-1,:,0,0]; z[:,-1] = rnc.variables['e'][-1,:,0,-1]\n",
    "z[:,1:-1] = 0.5 * ( rnc.variables['e'][-1,:,0,:-1] + rnc.variables['e'][-1,:,0,1:] ) # interfaces at u-points\n",
    "plt.pcolormesh(xq,z,rnc.variables['temp'][-1,:,0,:], cmap='jet_r'); plt.colorbar();\n",
    "z = 0.5 * ( rnc.variables['e'][-1,:-1,0,:] + rnc.variables['e'][-1,1:,0,:] ) # middle of layer at h-points\n",
    "plt.contour(xc+0*z,z,rnc.variables['salt'][-1,:,0,:]+.001,numpy.arange(34.5,35.5,.05),colors='k');\n",
    "plt.xlabel('x [km]'); plt.ylabel('z* [m]'); plt.title('z* coordinate');\n",
    "plt.figure(figsize=(14,5));\n",
    "plt.subplot(121)\n",
    "plt.plot(icz.variables['Salt'][0,:,0,:].flatten()+1e3,icz.variables['Temp'][0,:,0,:].flatten(),'c.',label='t=0 day');\n",
    "n=1; plt.plot(znc.variables['salt'][n,:,0,:].flatten()+1e3,znc.variables['temp'][n,:,0,:].flatten(),'r.',hold=True,\n",
    "              label='t=%i day'%(znc.variables['Time'][n]));\n",
    "n=-1; plt.plot(znc.variables['salt'][n,:,0,:].flatten()+1e3,znc.variables['temp'][n,:,0,:].flatten(),'k.',hold=True,\n",
    "               label='t=%i day'%(znc.variables['Time'][-1]));\n",
    "plt.xlabel('$\\sigma$ [kg/m$^3$]'); plt.ylabel(r'$\\theta$ [conc.]'); plt.xlim(1034.5,1035.5);\n",
    "plt.legend(loc='upper left'); plt.title('z* coordinate');\n",
    "plt.subplot(122)\n",
    "plt.plot(icr.variables['Salt'][0,:,0,:].flatten()+1e3,icr.variables['Temp'][0,:,0,:].flatten(),'c.',label='t=0 day');\n",
    "n=1; plt.plot(rnc.variables['salt'][n,:,0,:].flatten()+1e3,rnc.variables['temp'][n,:,0,:].flatten(),'r.',hold=True,\n",
    "              label='t=%i day'%(rnc.variables['Time'][n]));\n",
    "n=-1; plt.plot(rnc.variables['salt'][n,:,0,:].flatten()+1e3,rnc.variables['temp'][n,:,0,:].flatten(),'k.',hold=True,\n",
    "               label='t=%i day'%(rnc.variables['Time'][-1]));\n",
    "plt.xlabel('$\\sigma$ [kg/m$^3$]'); plt.ylabel(r'$\\theta$ [conc.]'); plt.xlim(1034.5,1035.5);\n",
    "plt.legend(loc='upper left'); plt.title(r'$\\rho$ coordinate');"
   ]
  }
 ],
 "metadata": {
  "kernelspec": {
   "display_name": "Python 3",
   "language": "python",
   "name": "python3"
  },
  "language_info": {
   "codemirror_mode": {
    "name": "ipython",
    "version": 3
   },
   "file_extension": ".py",
   "mimetype": "text/x-python",
   "name": "python",
   "nbconvert_exporter": "python",
   "pygments_lexer": "ipython3",
   "version": "3.4.5"
  }
 },
 "nbformat": 4,
 "nbformat_minor": 0
}
