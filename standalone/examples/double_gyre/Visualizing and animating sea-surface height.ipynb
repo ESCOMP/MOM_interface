{
 "cells": [
  {
   "cell_type": "markdown",
   "metadata": {},
   "source": [
    "We will use `matplotlib.pyplot` for plotting and scipy's netcdf package for reading the model output. The `%pylab inline` causes figures to appear in the page and conveniently alias pyplot to `plt` (which is becoming a widely used alias).\n",
    "\n",
    "This analysis assumes you changed `DAYMAX` to some multiple of 5 so that there are multiple time records in the model output.\n",
    "\n",
    "To see this notebook with figures, see https://gist.github.com/adcroft/2a2b91d66625fd534372."
   ]
  },
  {
   "cell_type": "code",
   "execution_count": null,
   "metadata": {
    "collapsed": false
   },
   "outputs": [],
   "source": [
    "%pylab inline\n",
    "import scipy.io.netcdf"
   ]
  },
  {
   "cell_type": "markdown",
   "metadata": {},
   "source": [
    "We first create a netcdf object, or \"handle\", to the netcdf file. We'll also list all the objects in the netcdf object."
   ]
  },
  {
   "cell_type": "code",
   "execution_count": null,
   "metadata": {
    "collapsed": false
   },
   "outputs": [],
   "source": [
    "prog_file = scipy.io.netcdf_file('prog__0001_006.nc')\n",
    "prog_file.variables"
   ]
  },
  {
   "cell_type": "markdown",
   "metadata": {},
   "source": [
    "Now we will create a variable object for the \"e\" variable in the file. Again, I'm labelling it as a handle to distinguish it from a numpy array or raw data.\n",
    "\n",
    "We'll also look at an \"attribute\" and print the shape of the data."
   ]
  },
  {
   "cell_type": "code",
   "execution_count": null,
   "metadata": {
    "collapsed": false
   },
   "outputs": [],
   "source": [
    "e_handle = prog_file.variables['e']\n",
    "print('Description =', e_handle.long_name)\n",
    "print('Shape =',e_handle.shape)"
   ]
  },
  {
   "cell_type": "markdown",
   "metadata": {},
   "source": [
    "\"e\" is 4-dimensional. netcdf files and objects are index [n,k,j,i] for the time-, vertical-, meridional-, zonal-axes.\n",
    "\n",
    "Let's take a quick look at the first record [n=0] of the top interface [k=0]. "
   ]
  },
  {
   "cell_type": "code",
   "execution_count": null,
   "metadata": {
    "collapsed": false
   },
   "outputs": [],
   "source": [
    "plt.pcolormesh( e_handle[0,0] )"
   ]
  },
  {
   "cell_type": "markdown",
   "metadata": {},
   "source": [
    "The data looks OKish. No scale! And see that \"`<matplotlib...>`\" line? That's a handle returned by the matplotlib function. Hide it with a semicolon. Let's add a scale and change the colormap."
   ]
  },
  {
   "cell_type": "code",
   "execution_count": null,
   "metadata": {
    "collapsed": false
   },
   "outputs": [],
   "source": [
    "plt.pcolormesh( e_handle[0,0], cmap=cm.seismic ); plt.colorbar();"
   ]
  },
  {
   "cell_type": "markdown",
   "metadata": {},
   "source": [
    "We have 4D data but can only visualize by projecting on a 2D medium (the page). Let's solve that by going interactive!"
   ]
  },
  {
   "cell_type": "code",
   "execution_count": null,
   "metadata": {
    "collapsed": false
   },
   "outputs": [],
   "source": [
    "import ipywidgets"
   ]
  },
  {
   "cell_type": "markdown",
   "metadata": {},
   "source": [
    "We'll need to know the range to fix the color scale..."
   ]
  },
  {
   "cell_type": "code",
   "execution_count": null,
   "metadata": {
    "collapsed": false
   },
   "outputs": [],
   "source": [
    "[e_handle[:,0].min(), e_handle[:,0].max()]"
   ]
  },
  {
   "cell_type": "markdown",
   "metadata": {},
   "source": [
    "We define a simple function that takes the record number as an argument and then plots the top interface (k=0) for that record. We then use the `interact()` function to do some magic!"
   ]
  },
  {
   "cell_type": "code",
   "execution_count": null,
   "metadata": {
    "collapsed": false
   },
   "outputs": [],
   "source": [
    "def plot_ssh(record):\n",
    "    plt.pcolormesh( e_handle[record,0], cmap=cm.spectral )\n",
    "    plt.clim(-.5,.8) # Fixed scale here\n",
    "    plt.colorbar()\n",
    "\n",
    "ipywidgets.interact(plot_ssh, record=(0,e_handle.shape[0]-1,1));"
   ]
  },
  {
   "cell_type": "markdown",
   "metadata": {},
   "source": [
    "Unable to scroll the slider steadily enough? We'll use a loop to redraw for us..."
   ]
  },
  {
   "cell_type": "code",
   "execution_count": null,
   "metadata": {
    "collapsed": true
   },
   "outputs": [],
   "source": [
    "from IPython import display"
   ]
  },
  {
   "cell_type": "code",
   "execution_count": null,
   "metadata": {
    "collapsed": false
   },
   "outputs": [],
   "source": [
    "for n in range( e_handle.shape[0]):\n",
    "    display.display(plt.gcf())\n",
    "    plt.clf()\n",
    "    plot_ssh(n)\n",
    "    display.clear_output(wait=True)"
   ]
  }
 ],
 "metadata": {
  "kernelspec": {
   "display_name": "Python 3",
   "language": "python",
   "name": "python3"
  },
  "language_info": {
   "codemirror_mode": {
    "name": "ipython",
    "version": 3
   },
   "file_extension": ".py",
   "mimetype": "text/x-python",
   "name": "python",
   "nbconvert_exporter": "python",
   "pygments_lexer": "ipython3",
   "version": "3.6.0"
  }
 },
 "nbformat": 4,
 "nbformat_minor": 0
}
